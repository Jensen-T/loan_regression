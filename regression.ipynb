{
 "cells": [
  {
   "cell_type": "code",
   "execution_count": 23,
   "metadata": {},
   "outputs": [],
   "source": [
    "import numpy as np\n",
    "import pandas as pd\n",
    "from sklearn.preprocessing import MinMaxScaler\n",
    "from sklearn.model_selection import train_test_split\n",
    "from sklearn.ensemble import RandomForestRegressor\n",
    "from sklearn.ensemble import AdaBoostRegressor\n",
    "from sklearn.ensemble import GradientBoostingRegressor\n",
    "from sklearn.ensemble import ExtraTreesRegressor\n",
    "from sklearn.metrics import mean_squared_error, r2_score"
   ]
  },
  {
   "cell_type": "code",
   "execution_count": 24,
   "metadata": {},
   "outputs": [],
   "source": [
    "df = pd.read_csv(\"RuralCreditDataCleaned.csv\")\n",
    "df.head(5)"
   ]
  },
  {
   "cell_type": "code",
   "execution_count": 26,
   "metadata": {},
   "outputs": [
    {
     "data": {
      "text/plain": [
       "(37198, 12)"
      ]
     },
     "execution_count": 26,
     "metadata": {},
     "output_type": "execute_result"
    }
   ],
   "source": [
    "df.shape"
   ]
  },
  {
   "cell_type": "code",
   "execution_count": 27,
   "metadata": {},
   "outputs": [
    {
     "data": {
      "text/plain": [
       "age                      0\n",
       "annual_income            0\n",
       "monthly_expenses         0\n",
       "young_dependents         0\n",
       "home_ownership           0\n",
       "occupants_count          0\n",
       "house_area               0\n",
       "sanitary_availability    0\n",
       "water_availabity         0\n",
       "loan_tenure              0\n",
       "loan_installments        0\n",
       "loan_amount              0\n",
       "dtype: int64"
      ]
     },
     "execution_count": 27,
     "metadata": {},
     "output_type": "execute_result"
    }
   ],
   "source": [
    "df.isna().sum()"
   ]
  },
  {
   "cell_type": "code",
   "execution_count": 28,
   "metadata": {},
   "outputs": [],
   "source": [
    "df[\"home_ownership\"] = df[\"home_ownership\"].astype(int)\n",
    "df[\"sanitary_availability\"] = df[\"sanitary_availability\"].astype(int)"
   ]
  },
  {
   "cell_type": "code",
   "execution_count": 29,
   "metadata": {},
   "outputs": [
    {
     "name": "stdout",
     "output_type": "stream",
     "text": [
      "<class 'pandas.core.frame.DataFrame'>\n",
      "RangeIndex: 37198 entries, 0 to 37197\n",
      "Data columns (total 12 columns):\n",
      " #   Column                 Non-Null Count  Dtype  \n",
      "---  ------                 --------------  -----  \n",
      " 0   age                    37198 non-null  int64  \n",
      " 1   annual_income          37198 non-null  float64\n",
      " 2   monthly_expenses       37198 non-null  float64\n",
      " 3   young_dependents       37198 non-null  int64  \n",
      " 4   home_ownership         37198 non-null  int32  \n",
      " 5   occupants_count        37198 non-null  int64  \n",
      " 6   house_area             37198 non-null  float64\n",
      " 7   sanitary_availability  37198 non-null  int32  \n",
      " 8   water_availabity       37198 non-null  float64\n",
      " 9   loan_tenure            37198 non-null  int64  \n",
      " 10  loan_installments      37198 non-null  int64  \n",
      " 11  loan_amount            37198 non-null  float64\n",
      "dtypes: float64(5), int32(2), int64(5)\n",
      "memory usage: 3.1 MB\n"
     ]
    }
   ],
   "source": [
    "df.info()"
   ]
  },
  {
   "cell_type": "code",
   "execution_count": 30,
   "metadata": {},
   "outputs": [],
   "source": [
    "values = df.values\n",
    "scaler = MinMaxScaler()\n",
    "values = scaler.fit_transform(values)\n",
    "\n",
    "x = values[:, :-1]\n",
    "y = values[:, -1]\n",
    "\n",
    "x_train, x_test, y_train, y_test = train_test_split(x, y, test_size=0.2, random_state=42)"
   ]
  },
  {
   "cell_type": "code",
   "execution_count": 31,
   "metadata": {},
   "outputs": [],
   "source": [
    "def train_model(model):\n",
    "    model.fit(x_train, y_train)\n",
    "    y_pred = model.predict(x_test)\n",
    "    mse = mean_squared_error(y_test, y_pred)\n",
    "    r2 = r2_score(y_test, y_pred)\n",
    "    print(f\"Mean Squared Error: {mse}\")\n",
    "    print(f\"R2 Score: {r2}\")"
   ]
  },
  {
   "cell_type": "code",
   "execution_count": 32,
   "metadata": {},
   "outputs": [],
   "source": [
    "random_forest = RandomForestRegressor()\n",
    "ada_boost = AdaBoostRegressor()\n",
    "gradient_boost = GradientBoostingRegressor()\n",
    "extra_trees = ExtraTreesRegressor()\n",
    "\n",
    "models = [random_forest, ada_boost, gradient_boost, extra_trees]"
   ]
  },
  {
   "cell_type": "code",
   "execution_count": 35,
   "metadata": {},
   "outputs": [
    {
     "name": "stdout",
     "output_type": "stream",
     "text": [
      "Training RandomForestRegressor()\n",
      "Mean Squared Error: 0.0002384537413241867\n",
      "R2 Score: 0.10190381000923132\n",
      "\n",
      "\n",
      "\n",
      "Training AdaBoostRegressor()\n",
      "Mean Squared Error: 0.00026515802377807585\n",
      "R2 Score: 0.00132659031415705\n",
      "\n",
      "\n",
      "\n",
      "Training GradientBoostingRegressor()\n",
      "Mean Squared Error: 0.000240841674963201\n",
      "R2 Score: 0.09291005679219189\n",
      "\n",
      "\n",
      "\n",
      "Training ExtraTreesRegressor()\n",
      "Mean Squared Error: 0.00024509542220488333\n",
      "R2 Score: 0.07688902827016575\n",
      "\n",
      "\n",
      "\n"
     ]
    }
   ],
   "source": [
    "for a in models:\n",
    "    print(f\"Training {a}\")\n",
    "    train_model(a)\n",
    "    print(\"\\n\\n\")"
   ]
  }
 ],
 "metadata": {
  "kernelspec": {
   "display_name": "Python 3",
   "language": "python",
   "name": "python3"
  },
  "language_info": {
   "codemirror_mode": {
    "name": "ipython",
    "version": 3
   },
   "file_extension": ".py",
   "mimetype": "text/x-python",
   "name": "python",
   "nbconvert_exporter": "python",
   "pygments_lexer": "ipython3",
   "version": "3.12.0"
  }
 },
 "nbformat": 4,
 "nbformat_minor": 2
}
